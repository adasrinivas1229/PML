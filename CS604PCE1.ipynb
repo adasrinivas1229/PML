{
  "nbformat": 4,
  "nbformat_minor": 0,
  "metadata": {
    "colab": {
      "name": "CS604PCE1.ipynb",
      "provenance": [],
      "authorship_tag": "ABX9TyNjV7RCuxL148TGoHVUWGEJ",
      "include_colab_link": true
    },
    "kernelspec": {
      "name": "python3",
      "display_name": "Python 3"
    },
    "language_info": {
      "name": "python"
    }
  },
  "cells": [
    {
      "cell_type": "markdown",
      "metadata": {
        "id": "view-in-github",
        "colab_type": "text"
      },
      "source": [
        "<a href=\"https://colab.research.google.com/github/adasrinivas1229/PML/blob/master/CS604PCE1.ipynb\" target=\"_parent\"><img src=\"https://colab.research.google.com/assets/colab-badge.svg\" alt=\"Open In Colab\"/></a>"
      ]
    },
    {
      "cell_type": "code",
      "metadata": {
        "colab": {
          "base_uri": "https://localhost:8080/"
        },
        "id": "Z2cg4XVVovmj",
        "outputId": "de472763-be19-440d-9c37-48cfe1c9a889"
      },
      "source": [
        "# calculate the probability  that a student is absent given that today is Friday\n",
        " \n",
        "# calculate P(A|F) given P(F), P(F^A)\n",
        "def bayes_theorem(p_f, p_f_and_a):\n",
        "  p_a_given_f = (p_f_and_a) / p_f\n",
        "  return p_a_given_f\n",
        " \n",
        "# P(F)\n",
        "p_f = 0.2\n",
        "# P(F^A)\n",
        "p_f_and_a = 0.03\n",
        "# calculate P(A|F)\n",
        "result = bayes_theorem(p_f, p_f_and_a)\n",
        "# summarize\n",
        "print('P(A|F) = %.3f%%' % (result * 100))"
      ],
      "execution_count": 3,
      "outputs": [
        {
          "output_type": "stream",
          "text": [
            "P(A|F) = 15.000%\n"
          ],
          "name": "stdout"
        }
      ]
    }
  ]
}